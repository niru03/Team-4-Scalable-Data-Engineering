{
 "cells": [
  {
   "cell_type": "code",
   "execution_count": null,
   "id": "74d60414",
   "metadata": {},
   "outputs": [],
   "source": [
    "!pip install folium\n",
    "!pip install matplotlib\n",
    "!pip install seaborn\n",
    "!pip install missingno"
   ]
  },
  {
   "cell_type": "code",
   "execution_count": null,
   "id": "5bcb5aca",
   "metadata": {},
   "outputs": [],
   "source": [
    "import folium"
   ]
  },
  {
   "cell_type": "code",
   "execution_count": null,
   "id": "2220fdad",
   "metadata": {},
   "outputs": [],
   "source": [
    "import pandas as pd\n",
    "import numpy as np\n",
    "import matplotlib.pyplot as plt\n",
    "import seaborn as sns\n",
    "import missingno as msno\n",
    "\n",
    "import warnings\n",
    "warnings.filterwarnings('ignore')\n",
    "\n",
    "from sklearn.model_selection import train_test_split, GridSearchCV\n",
    "from sklearn.preprocessing import StandardScaler\n",
    "from sklearn.metrics import accuracy_score, confusion_matrix, classification_report\n",
    "from sklearn.linear_model import LogisticRegression\n",
    "from sklearn.neighbors import KNeighborsClassifier\n",
    "from sklearn.svm import SVC\n",
    "from sklearn.tree import DecisionTreeClassifier\n",
    "from sklearn.ensemble import RandomForestClassifier\n",
    "from sklearn.ensemble import RandomForestClassifier\n",
    "from sklearn.ensemble import AdaBoostClassifier\n",
    "from sklearn.ensemble import GradientBoostingClassifier\n",
    "from xgboost import XGBClassifier\n",
    "from catboost import CatBoostClassifier\n",
    "from sklearn.ensemble import ExtraTreesClassifier\n",
    "from sklearn.ensemble import VotingClassifier\n",
    "\n",
    "import folium\n",
    "from folium.plugins import HeatMap\n",
    "import plotly.express as px\n",
    "\n",
    "plt.style.use('fivethirtyeight')\n",
    "%matplotlib inline\n",
    "pd.set_option('display.max_columns', 32)"
   ]
  },
  {
   "cell_type": "code",
   "execution_count": null,
   "id": "70995e30",
   "metadata": {},
   "outputs": [],
   "source": [
    "df=pd.read_csv(r\"D:\\niran's\\UNH\\projects\\team 4 Scalable Data Engineering\\hotel_bookings.csv\")"
   ]
  },
  {
   "cell_type": "code",
   "execution_count": null,
   "id": "ea4b686b",
   "metadata": {},
   "outputs": [],
   "source": [
    "df.head()"
   ]
  },
  {
   "cell_type": "code",
   "execution_count": null,
   "id": "f68cda19",
   "metadata": {},
   "outputs": [],
   "source": [
    "df.describe()"
   ]
  },
  {
   "cell_type": "code",
   "execution_count": null,
   "id": "bc1cae06",
   "metadata": {},
   "outputs": [],
   "source": [
    "df.info()"
   ]
  },
  {
   "cell_type": "code",
   "execution_count": null,
   "id": "beb4704a",
   "metadata": {},
   "outputs": [],
   "source": [
    "null = pd.DataFrame({'Null Values' : df.isna().sum(), 'Percentage Null Values' : (df.isna().sum()) / (df.shape[0]) * (100)})\n",
    "null"
   ]
  },
  {
   "cell_type": "code",
   "execution_count": null,
   "id": "05f04c1d",
   "metadata": {},
   "outputs": [],
   "source": [
    "df.fillna(0, inplace = True)"
   ]
  },
  {
   "cell_type": "code",
   "execution_count": null,
   "id": "37c55af1",
   "metadata": {},
   "outputs": [],
   "source": [
    "msno.bar(df)\n",
    "plt.show()"
   ]
  },
  {
   "cell_type": "code",
   "execution_count": null,
   "id": "59f86d2d",
   "metadata": {},
   "outputs": [],
   "source": [
    "\n",
    "filter = (df.children == 0) & (df.adults == 0) & (df.babies == 0)\n",
    "df[filter]"
   ]
  },
  {
   "cell_type": "code",
   "execution_count": null,
   "id": "d7209811",
   "metadata": {},
   "outputs": [],
   "source": [
    "df = df[~filter]\n",
    "df"
   ]
  },
  {
   "cell_type": "markdown",
   "id": "b5720488",
   "metadata": {},
   "source": [
    "# Exploratory Data Analysis (EDA)"
   ]
  },
  {
   "cell_type": "markdown",
   "id": "277769d4",
   "metadata": {},
   "source": [
    "# From where the most guests are coming ?."
   ]
  },
  {
   "cell_type": "code",
   "execution_count": null,
   "id": "24550420",
   "metadata": {},
   "outputs": [],
   "source": [
    "country_wise_guests = df[df['is_canceled'] == 0]['country'].value_counts().reset_index()\n",
    "country_wise_guests.columns = ['country', 'No of guests']\n",
    "country_wise_guests"
   ]
  },
  {
   "cell_type": "code",
   "execution_count": null,
   "id": "3dd10e81",
   "metadata": {},
   "outputs": [],
   "source": [
    "basemap = folium.Map()\n",
    "guests_map = px.choropleth(country_wise_guests, locations = country_wise_guests['country'],\n",
    "                           color = country_wise_guests['No of guests'], hover_name = country_wise_guests['country'])\n",
    "guests_map.show()"
   ]
  },
  {
   "cell_type": "markdown",
   "id": "524289f1",
   "metadata": {},
   "source": [
    "### People from all over the world are staying in these two hotels. Most guests are from Portugal and other countries in Europe."
   ]
  },
  {
   "cell_type": "markdown",
   "id": "71342bfb",
   "metadata": {},
   "source": [
    "# How much do guests pay for a room per night?"
   ]
  },
  {
   "cell_type": "code",
   "execution_count": null,
   "id": "a5cf9c8f",
   "metadata": {},
   "outputs": [],
   "source": [
    "df.head()"
   ]
  },
  {
   "cell_type": "markdown",
   "id": "8c00c249",
   "metadata": {},
   "source": [
    "###  Both hotels have different room types and different meal arrangements.Seasonal factors are also important, So the prices varies a lot."
   ]
  },
  {
   "cell_type": "code",
   "execution_count": null,
   "id": "15119046",
   "metadata": {},
   "outputs": [],
   "source": [
    "data = df[df['is_canceled'] == 0]\n",
    "\n",
    "px.box(data_frame = data, x = 'reserved_room_type', y = 'adr', color = 'hotel', template = 'plotly_dark')"
   ]
  },
  {
   "cell_type": "markdown",
   "id": "845fde03",
   "metadata": {},
   "source": [
    "The figure shows that the average price per room depends on its type and the standard deviation."
   ]
  },
  {
   "cell_type": "markdown",
   "id": "9cbc727f",
   "metadata": {},
   "source": [
    "# How does the price vary per night over the year?"
   ]
  },
  {
   "cell_type": "code",
   "execution_count": null,
   "id": "38e03be2",
   "metadata": {},
   "outputs": [],
   "source": [
    "data_resort = df[(df['hotel'] == 'Resort Hotel') & (df['is_canceled'] == 0)]\n",
    "data_city = df[(df['hotel'] == 'City Hotel') & (df['is_canceled'] == 0)]"
   ]
  },
  {
   "cell_type": "code",
   "execution_count": null,
   "id": "f57dcf18",
   "metadata": {},
   "outputs": [],
   "source": [
    "resort_hotel = data_resort.groupby(['arrival_date_month'])['adr'].mean().reset_index()\n",
    "resort_hotel"
   ]
  },
  {
   "cell_type": "code",
   "execution_count": null,
   "id": "57828988",
   "metadata": {},
   "outputs": [],
   "source": [
    "city_hotel=data_city.groupby(['arrival_date_month'])['adr'].mean().reset_index()\n",
    "city_hotel"
   ]
  },
  {
   "cell_type": "code",
   "execution_count": null,
   "id": "93ea4139",
   "metadata": {},
   "outputs": [],
   "source": [
    "final_hotel = resort_hotel.merge(city_hotel, on = 'arrival_date_month')\n",
    "final_hotel.columns = ['month', 'price_for_resort', 'price_for_city_hotel']\n",
    "final_hotel"
   ]
  },
  {
   "cell_type": "markdown",
   "id": "a77ae012",
   "metadata": {},
   "source": [
    "### Now we observe here that month column is not in order, and if we visualize we will get improper conclusions"
   ]
  },
  {
   "cell_type": "markdown",
   "id": "73156d80",
   "metadata": {},
   "source": [
    "### So, first we have to provide right hierarchy to month column."
   ]
  },
  {
   "cell_type": "code",
   "execution_count": null,
   "id": "2e5cb981",
   "metadata": {},
   "outputs": [],
   "source": [
    "!pip install sort-dataframeby-monthorweek\n",
    "\n",
    "!pip install sorted-months-weekdays"
   ]
  },
  {
   "cell_type": "code",
   "execution_count": null,
   "id": "6940e820",
   "metadata": {},
   "outputs": [],
   "source": [
    "import sort_dataframeby_monthorweek as sd\n",
    "\n",
    "def sort_month(df, column_name):\n",
    "    return sd.Sort_Dataframeby_Month(df, column_name)"
   ]
  },
  {
   "cell_type": "code",
   "execution_count": null,
   "id": "3bcf65df",
   "metadata": {},
   "outputs": [],
   "source": [
    "final_prices = sort_month(final_hotel, 'month')\n",
    "final_prices"
   ]
  },
  {
   "cell_type": "code",
   "execution_count": null,
   "id": "2247cf1e",
   "metadata": {},
   "outputs": [],
   "source": [
    "plt.figure(figsize = (17, 8))\n",
    "\n",
    "px.line(final_prices, x = 'month', y = ['price_for_resort','price_for_city_hotel'],\n",
    "        title = 'Room price per night over the Months', template = 'plotly_dark')"
   ]
  },
  {
   "cell_type": "markdown",
   "id": "2088c4df",
   "metadata": {},
   "source": [
    "### This plot clearly shows that prices in the Resort Hotel are much higher during the summer and prices of city hotel varies less and is most expensive during Spring and Autumn ."
   ]
  },
  {
   "cell_type": "markdown",
   "id": "7a26d5c0",
   "metadata": {},
   "source": [
    "# Which are the most busy months?"
   ]
  },
  {
   "cell_type": "code",
   "execution_count": null,
   "id": "ff447180",
   "metadata": {},
   "outputs": [],
   "source": [
    "resort_guests = data_resort['arrival_date_month'].value_counts().reset_index()\n",
    "resort_guests.columns=['month','no of guests']\n",
    "resort_guests"
   ]
  },
  {
   "cell_type": "code",
   "execution_count": null,
   "id": "c50b745f",
   "metadata": {},
   "outputs": [],
   "source": [
    "city_guests = data_city['arrival_date_month'].value_counts().reset_index()\n",
    "city_guests.columns=['month','no of guests']\n",
    "city_guests"
   ]
  },
  {
   "cell_type": "code",
   "execution_count": null,
   "id": "2721ba2a",
   "metadata": {},
   "outputs": [],
   "source": [
    "final_guests = resort_guests.merge(city_guests,on='month')\n",
    "final_guests.columns=['month','no of guests in resort','no of guest in city hotel']\n",
    "final_guests"
   ]
  },
  {
   "cell_type": "code",
   "execution_count": null,
   "id": "f8015bb9",
   "metadata": {},
   "outputs": [],
   "source": [
    "final_guests = sort_month(final_guests,'month')\n",
    "final_guests"
   ]
  },
  {
   "cell_type": "code",
   "execution_count": null,
   "id": "55719e64",
   "metadata": {},
   "outputs": [],
   "source": [
    "px.line(final_guests, x = 'month', y = ['no of guests in resort','no of guest in city hotel'],\n",
    "        title='Total no of guests per Months', template = 'plotly_dark')"
   ]
  },
  {
   "cell_type": "markdown",
   "id": "b18d01f9",
   "metadata": {},
   "source": [
    "## The City hotel has more guests during spring and autumn, when the prices are also highest, In July and August there are less visitors, although prices are lower.\n",
    "\n",
    "Guest numbers for the Resort hotel go down slighty from June to September, which is also when the prices are highest. Both hotels have the fewest guests during the winter"
   ]
  },
  {
   "cell_type": "markdown",
   "id": "be64da68",
   "metadata": {},
   "source": [
    "# How long do people stay at the hotels?"
   ]
  },
  {
   "cell_type": "code",
   "execution_count": null,
   "id": "34d4f8d4",
   "metadata": {},
   "outputs": [],
   "source": [
    "filter = df['is_canceled'] == 0\n",
    "data = df[filter]\n",
    "data.head()"
   ]
  },
  {
   "cell_type": "code",
   "execution_count": null,
   "id": "d19d3bfc",
   "metadata": {},
   "outputs": [],
   "source": [
    "data['total_nights'] = data['stays_in_weekend_nights'] + data['stays_in_week_nights']\n",
    "data.head()"
   ]
  },
  {
   "cell_type": "code",
   "execution_count": null,
   "id": "4f896a73",
   "metadata": {},
   "outputs": [],
   "source": [
    "stay = data.groupby(['total_nights', 'hotel']).agg('count').reset_index()\n",
    "stay = stay.iloc[:, :3]\n",
    "stay = stay.rename(columns={'is_canceled':'Number of stays'})\n",
    "stay"
   ]
  },
  {
   "cell_type": "code",
   "execution_count": null,
   "id": "a295275f",
   "metadata": {},
   "outputs": [],
   "source": [
    "px.bar(data_frame = stay, x = 'total_nights', y = 'Number of stays', color = 'hotel', barmode = 'group',\n",
    "        template = 'plotly_dark')"
   ]
  },
  {
   "cell_type": "code",
   "execution_count": null,
   "id": "32ec1d53",
   "metadata": {},
   "outputs": [],
   "source": [
    "df.head()"
   ]
  },
  {
   "cell_type": "code",
   "execution_count": null,
   "id": "e33ea5be",
   "metadata": {},
   "outputs": [],
   "source": [
    "numerical_df = df.select_dtypes(include=['number']).copy()"
   ]
  },
  {
   "cell_type": "markdown",
   "id": "8542de4d",
   "metadata": {},
   "source": [
    "# Data Pre Processing"
   ]
  },
  {
   "cell_type": "code",
   "execution_count": null,
   "id": "355570ad",
   "metadata": {},
   "outputs": [],
   "source": [
    "plt.figure(figsize = (24, 12))\n",
    "\n",
    "corr = numerical_df.corr()\n",
    "sns.heatmap(corr, annot = True, linewidths = 1)\n",
    "plt.show()"
   ]
  },
  {
   "cell_type": "code",
   "execution_count": null,
   "id": "4ca017d7",
   "metadata": {},
   "outputs": [],
   "source": [
    "correlation = numerical_df.corr()['is_canceled'].abs().sort_values(ascending = False)\n",
    "correlation"
   ]
  },
  {
   "cell_type": "code",
   "execution_count": null,
   "id": "dbd50e06",
   "metadata": {},
   "outputs": [],
   "source": [
    "\n",
    "useless_col = ['days_in_waiting_list', 'arrival_date_year', 'arrival_date_year', 'assigned_room_type', 'booking_changes',\n",
    "               'reservation_status', 'country', 'days_in_waiting_list']\n",
    "\n",
    "df.drop(useless_col, axis = 1, inplace = True)"
   ]
  },
  {
   "cell_type": "code",
   "execution_count": null,
   "id": "8bcc396e",
   "metadata": {},
   "outputs": [],
   "source": [
    "df.head()"
   ]
  },
  {
   "cell_type": "code",
   "execution_count": null,
   "id": "0443a5fe",
   "metadata": {},
   "outputs": [],
   "source": [
    "cat_cols = [col for col in df.columns if df[col].dtype == 'O']\n",
    "cat_cols"
   ]
  },
  {
   "cell_type": "code",
   "execution_count": null,
   "id": "442776a6",
   "metadata": {},
   "outputs": [],
   "source": [
    "cat_df = df[cat_cols]\n",
    "cat_df.head()"
   ]
  },
  {
   "cell_type": "code",
   "execution_count": null,
   "id": "bd43c4e0",
   "metadata": {},
   "outputs": [],
   "source": [
    "cat_df['reservation_status_date'] = pd.to_datetime(cat_df['reservation_status_date'])\n",
    "\n",
    "cat_df['year'] = cat_df['reservation_status_date'].dt.year\n",
    "cat_df['month'] = cat_df['reservation_status_date'].dt.month\n",
    "cat_df['day'] = cat_df['reservation_status_date'].dt.day"
   ]
  },
  {
   "cell_type": "code",
   "execution_count": null,
   "id": "cda1e2a0",
   "metadata": {},
   "outputs": [],
   "source": [
    "cat_df.drop(['reservation_status_date','arrival_date_month'] , axis = 1, inplace = True)"
   ]
  },
  {
   "cell_type": "code",
   "execution_count": null,
   "id": "aca1bd1c",
   "metadata": {},
   "outputs": [],
   "source": [
    "cat_df.head()"
   ]
  },
  {
   "cell_type": "code",
   "execution_count": null,
   "id": "bb0914d8",
   "metadata": {},
   "outputs": [],
   "source": [
    "# printing unique values of each column\n",
    "for col in cat_df.columns:\n",
    "    print(f\"{col}: \\n{cat_df[col].unique()}\\n\")"
   ]
  },
  {
   "cell_type": "code",
   "execution_count": null,
   "id": "ef785bed",
   "metadata": {},
   "outputs": [],
   "source": [
    "\n",
    "cat_df['hotel'] = cat_df['hotel'].map({'Resort Hotel' : 0, 'City Hotel' : 1})\n",
    "\n",
    "cat_df['meal'] = cat_df['meal'].map({'BB' : 0, 'FB': 1, 'HB': 2, 'SC': 3, 'Undefined': 4})\n",
    "\n",
    "cat_df['market_segment'] = cat_df['market_segment'].map({'Direct': 0, 'Corporate': 1, 'Online TA': 2, 'Offline TA/TO': 3,\n",
    "                                                           'Complementary': 4, 'Groups': 5, 'Undefined': 6, 'Aviation': 7})\n",
    "\n",
    "cat_df['distribution_channel'] = cat_df['distribution_channel'].map({'Direct': 0, 'Corporate': 1, 'TA/TO': 2, 'Undefined': 3,\n",
    "                                                                       'GDS': 4})\n",
    "\n",
    "cat_df['reserved_room_type'] = cat_df['reserved_room_type'].map({'C': 0, 'A': 1, 'D': 2, 'E': 3, 'G': 4, 'F': 5, 'H': 6,\n",
    "                                                                   'L': 7, 'B': 8})\n",
    "\n",
    "cat_df['deposit_type'] = cat_df['deposit_type'].map({'No Deposit': 0, 'Refundable': 1, 'Non Refund': 3})\n",
    "\n",
    "cat_df['customer_type'] = cat_df['customer_type'].map({'Transient': 0, 'Contract': 1, 'Transient-Party': 2, 'Group': 3})\n",
    "\n",
    "cat_df['year'] = cat_df['year'].map({2015: 0, 2014: 1, 2016: 2, 2017: 3})"
   ]
  },
  {
   "cell_type": "code",
   "execution_count": null,
   "id": "27f96cf1",
   "metadata": {},
   "outputs": [],
   "source": [
    "cat_df.head()"
   ]
  },
  {
   "cell_type": "code",
   "execution_count": null,
   "id": "4293b113",
   "metadata": {},
   "outputs": [],
   "source": [
    "num_df = df.drop(columns = cat_cols, axis = 1)\n",
    "num_df.drop('is_canceled', axis = 1, inplace = True)\n",
    "num_df"
   ]
  },
  {
   "cell_type": "code",
   "execution_count": null,
   "id": "7ed76322",
   "metadata": {},
   "outputs": [],
   "source": [
    "num_df.var()"
   ]
  },
  {
   "cell_type": "code",
   "execution_count": null,
   "id": "074cca18",
   "metadata": {},
   "outputs": [],
   "source": [
    "\n",
    "num_df['lead_time'] = np.log(num_df['lead_time'] + 1)\n",
    "num_df['arrival_date_week_number'] = np.log(num_df['arrival_date_week_number'] + 1)\n",
    "num_df['arrival_date_day_of_month'] = np.log(num_df['arrival_date_day_of_month'] + 1)\n",
    "num_df['agent'] = np.log(num_df['agent'] + 1)\n",
    "num_df['company'] = np.log(num_df['company'] + 1)\n",
    "num_df['adr'] = np.log(num_df['adr'] + 1)"
   ]
  },
  {
   "cell_type": "code",
   "execution_count": null,
   "id": "129c9e97",
   "metadata": {},
   "outputs": [],
   "source": [
    "num_df.var()"
   ]
  },
  {
   "cell_type": "code",
   "execution_count": null,
   "id": "4c86e58c",
   "metadata": {},
   "outputs": [],
   "source": [
    "num_df['adr'] = num_df['adr'].fillna(value = num_df['adr'].mean())"
   ]
  },
  {
   "cell_type": "code",
   "execution_count": null,
   "id": "71f50a14",
   "metadata": {},
   "outputs": [],
   "source": [
    "num_df.head()"
   ]
  },
  {
   "cell_type": "code",
   "execution_count": null,
   "id": "ccef478c",
   "metadata": {},
   "outputs": [],
   "source": [
    "X = pd.concat([cat_df, num_df], axis = 1)\n",
    "y = df['is_canceled']"
   ]
  },
  {
   "cell_type": "code",
   "execution_count": null,
   "id": "585e5638",
   "metadata": {},
   "outputs": [],
   "source": [
    "X.shape, y.shape"
   ]
  },
  {
   "cell_type": "code",
   "execution_count": null,
   "id": "f3635ea0",
   "metadata": {},
   "outputs": [],
   "source": [
    "X_train, X_test, y_train, y_test = train_test_split(X, y, test_size = 0.30)"
   ]
  },
  {
   "cell_type": "code",
   "execution_count": null,
   "id": "0eedc4cc",
   "metadata": {},
   "outputs": [],
   "source": [
    "X_train.head()"
   ]
  },
  {
   "cell_type": "code",
   "execution_count": null,
   "id": "c6b35c8d",
   "metadata": {},
   "outputs": [],
   "source": [
    "X_test.head()"
   ]
  },
  {
   "cell_type": "code",
   "execution_count": null,
   "id": "31629c41",
   "metadata": {},
   "outputs": [],
   "source": [
    "y_train.head(), y_test.head()"
   ]
  },
  {
   "cell_type": "markdown",
   "id": "d40cde1f",
   "metadata": {},
   "source": [
    "# Model Building"
   ]
  },
  {
   "cell_type": "markdown",
   "id": "3c75b035",
   "metadata": {},
   "source": [
    "# Logistic Regression"
   ]
  },
  {
   "cell_type": "code",
   "execution_count": null,
   "id": "c0c1e9aa",
   "metadata": {},
   "outputs": [],
   "source": [
    "lr = LogisticRegression()\n",
    "lr.fit(X_train, y_train)\n",
    "\n",
    "y_pred_lr = lr.predict(X_test)\n",
    "\n",
    "acc_lr = accuracy_score(y_test, y_pred_lr)\n",
    "conf = confusion_matrix(y_test, y_pred_lr)\n",
    "clf_report = classification_report(y_test, y_pred_lr)\n",
    "\n",
    "print(f\"Accuracy Score of Logistic Regression is : {acc_lr}\")\n",
    "print(f\"Confusion Matrix : \\n{conf}\")\n",
    "print(f\"Classification Report : \\n{clf_report}\")"
   ]
  },
  {
   "cell_type": "markdown",
   "id": "b91dabbd",
   "metadata": {},
   "source": [
    "# KNN "
   ]
  },
  {
   "cell_type": "code",
   "execution_count": null,
   "id": "e7e9d019",
   "metadata": {},
   "outputs": [],
   "source": [
    "knn = KNeighborsClassifier()\n",
    "knn.fit(X_train, y_train)\n",
    "\n",
    "y_pred_knn = knn.predict(X_test)\n",
    "\n",
    "acc_knn = accuracy_score(y_test, y_pred_knn)\n",
    "conf = confusion_matrix(y_test, y_pred_knn)\n",
    "clf_report = classification_report(y_test, y_pred_knn)\n",
    "\n",
    "print(f\"Accuracy Score of KNN is : {acc_knn}\")\n",
    "print(f\"Confusion Matrix : \\n{conf}\")\n",
    "print(f\"Classification Report : \\n{clf_report}\")"
   ]
  },
  {
   "cell_type": "markdown",
   "id": "99f92a71",
   "metadata": {},
   "source": [
    "# Decision Tree Classifier"
   ]
  },
  {
   "cell_type": "code",
   "execution_count": null,
   "id": "6e9ff1d8",
   "metadata": {},
   "outputs": [],
   "source": [
    "dtc = DecisionTreeClassifier()\n",
    "dtc.fit(X_train, y_train)\n",
    "\n",
    "y_pred_dtc = dtc.predict(X_test)\n",
    "\n",
    "acc_dtc = accuracy_score(y_test, y_pred_dtc)\n",
    "conf = confusion_matrix(y_test, y_pred_dtc)\n",
    "clf_report = classification_report(y_test, y_pred_dtc)\n",
    "\n",
    "print(f\"Accuracy Score of Decision Tree is : {acc_dtc}\")\n",
    "print(f\"Confusion Matrix : \\n{conf}\")\n",
    "print(f\"Classification Report : \\n{clf_report}\")"
   ]
  },
  {
   "cell_type": "markdown",
   "id": "c0b3c053",
   "metadata": {},
   "source": [
    "# Random Forest Classifier"
   ]
  },
  {
   "cell_type": "code",
   "execution_count": null,
   "id": "49de1a97",
   "metadata": {},
   "outputs": [],
   "source": [
    "rd_clf = RandomForestClassifier()\n",
    "rd_clf.fit(X_train, y_train)\n",
    "\n",
    "y_pred_rd_clf = rd_clf.predict(X_test)\n",
    "\n",
    "acc_rd_clf = accuracy_score(y_test, y_pred_rd_clf)\n",
    "conf = confusion_matrix(y_test, y_pred_rd_clf)\n",
    "clf_report = classification_report(y_test, y_pred_rd_clf)\n",
    "\n",
    "print(f\"Accuracy Score of Random Forest is : {acc_rd_clf}\")\n",
    "print(f\"Confusion Matrix : \\n{conf}\")\n",
    "print(f\"Classification Report : \\n{clf_report}\")"
   ]
  },
  {
   "cell_type": "markdown",
   "id": "6e325ea5",
   "metadata": {},
   "source": [
    "# Ada Boost Classifier"
   ]
  },
  {
   "cell_type": "code",
   "execution_count": null,
   "id": "a6cda383",
   "metadata": {},
   "outputs": [],
   "source": [
    "ada = AdaBoostClassifier(base_estimator = dtc)\n",
    "ada.fit(X_train, y_train)\n",
    "\n",
    "y_pred_ada = ada.predict(X_test)\n",
    "\n",
    "acc_ada = accuracy_score(y_test, y_pred_ada)\n",
    "conf = confusion_matrix(y_test, y_pred_ada)\n",
    "clf_report = classification_report(y_test, y_pred_ada)\n",
    "\n",
    "print(f\"Accuracy Score of Ada Boost Classifier is : {acc_ada}\")\n",
    "print(f\"Confusion Matrix : \\n{conf}\")\n",
    "print(f\"Classification Report : \\n{clf_report}\")"
   ]
  },
  {
   "cell_type": "markdown",
   "id": "f80e86cb",
   "metadata": {},
   "source": [
    "# Gradient Boosting Classifier"
   ]
  },
  {
   "cell_type": "code",
   "execution_count": null,
   "id": "8e4858cf",
   "metadata": {},
   "outputs": [],
   "source": [
    "gb = GradientBoostingClassifier()\n",
    "gb.fit(X_train, y_train)\n",
    "\n",
    "y_pred_gb = gb.predict(X_test)\n",
    "\n",
    "acc_gb = accuracy_score(y_test, y_pred_gb)\n",
    "conf = confusion_matrix(y_test, y_pred_gb)\n",
    "clf_report = classification_report(y_test, y_pred_gb)\n",
    "\n",
    "print(f\"Accuracy Score of Ada Boost Classifier is : {acc_gb}\")\n",
    "print(f\"Confusion Matrix : \\n{conf}\")\n",
    "print(f\"Classification Report : \\n{clf_report}\")"
   ]
  },
  {
   "cell_type": "markdown",
   "id": "330c14bf",
   "metadata": {},
   "source": [
    "# XgBoost Classifier"
   ]
  },
  {
   "cell_type": "code",
   "execution_count": null,
   "id": "541556fd",
   "metadata": {},
   "outputs": [],
   "source": [
    "xgb = XGBClassifier(booster = 'gbtree', learning_rate = 0.1, max_depth = 5, n_estimators = 180)\n",
    "xgb.fit(X_train, y_train)\n",
    "\n",
    "y_pred_xgb = xgb.predict(X_test)\n",
    "\n",
    "acc_xgb = accuracy_score(y_test, y_pred_xgb)\n",
    "conf = confusion_matrix(y_test, y_pred_xgb)\n",
    "clf_report = classification_report(y_test, y_pred_xgb)\n",
    "\n",
    "print(f\"Accuracy Score of Ada Boost Classifier is : {acc_xgb}\")\n",
    "print(f\"Confusion Matrix : \\n{conf}\")\n",
    "print(f\"Classification Report : \\n{clf_report}\")"
   ]
  },
  {
   "cell_type": "markdown",
   "id": "ef64cfcc",
   "metadata": {},
   "source": [
    "# Cat Boost Classifier"
   ]
  },
  {
   "cell_type": "code",
   "execution_count": null,
   "id": "70d3966d",
   "metadata": {},
   "outputs": [],
   "source": [
    "cat = CatBoostClassifier(iterations=100)\n",
    "cat.fit(X_train, y_train)\n",
    "\n",
    "y_pred_cat = cat.predict(X_test)\n",
    "\n",
    "acc_cat = accuracy_score(y_test, y_pred_cat)\n",
    "conf = confusion_matrix(y_test, y_pred_cat)\n",
    "clf_report = classification_report(y_test, y_pred_cat)"
   ]
  },
  {
   "cell_type": "code",
   "execution_count": null,
   "id": "d69b5502",
   "metadata": {},
   "outputs": [],
   "source": [
    "print(f\"Accuracy Score of Ada Boost Classifier is : {acc_cat}\")\n",
    "print(f\"Confusion Matrix : \\n{conf}\")\n",
    "print(f\"Classification Report : \\n{clf_report}\")"
   ]
  },
  {
   "cell_type": "markdown",
   "id": "15efd242",
   "metadata": {},
   "source": [
    "# Extra Trees Classifier"
   ]
  },
  {
   "cell_type": "code",
   "execution_count": null,
   "id": "1275b690",
   "metadata": {},
   "outputs": [],
   "source": [
    "etc = ExtraTreesClassifier()\n",
    "etc.fit(X_train, y_train)\n",
    "\n",
    "y_pred_etc = etc.predict(X_test)\n",
    "\n",
    "acc_etc = accuracy_score(y_test, y_pred_etc)\n",
    "conf = confusion_matrix(y_test, y_pred_etc)\n",
    "clf_report = classification_report(y_test, y_pred_etc)\n",
    "\n",
    "print(f\"Accuracy Score of Ada Boost Classifier is : {acc_etc}\")\n",
    "print(f\"Confusion Matrix : \\n{conf}\")\n",
    "print(f\"Classification Report : \\n{clf_report}\")"
   ]
  },
  {
   "cell_type": "markdown",
   "id": "d75fb82c",
   "metadata": {},
   "source": [
    "# Voting Classifier"
   ]
  },
  {
   "cell_type": "code",
   "execution_count": null,
   "id": "3505a2ee",
   "metadata": {},
   "outputs": [],
   "source": [
    "classifiers = [('Gradient Boosting Classifier', gb), ('Cat Boost Classifier', cat), ('XGboost', xgb),  ('Decision Tree', dtc),\n",
    "               ('Extra Tree', etc), ('Random Forest', rd_clf), ('Ada Boost', ada), ('Logistic', lr),\n",
    "               ('Knn', knn)]\n",
    "vc = VotingClassifier(estimators = classifiers)\n",
    "vc.fit(X_train, y_train)"
   ]
  },
  {
   "cell_type": "code",
   "execution_count": null,
   "id": "20fa6ce8",
   "metadata": {},
   "outputs": [],
   "source": [
    "y_pred_vc = vc.predict(X_test)\n",
    "\n",
    "acc_vtc = accuracy_score(y_test, y_pred_vc)\n",
    "conf = confusion_matrix(y_test, y_pred_vc)\n",
    "clf_report = classification_report(y_test, y_pred_vc)\n",
    "\n",
    "print(f\"Accuracy Score of Ada Boost Classifier is : {acc_vtc}\")\n",
    "print(f\"Confusion Matrix : \\n{conf}\")\n",
    "print(f\"Classification Report : \\n{clf_report}\")"
   ]
  },
  {
   "cell_type": "markdown",
   "id": "3da5c57c",
   "metadata": {},
   "source": [
    "# ANN"
   ]
  },
  {
   "cell_type": "code",
   "execution_count": null,
   "id": "c76a9326",
   "metadata": {},
   "outputs": [],
   "source": [
    "import tensorflow as tf"
   ]
  },
  {
   "cell_type": "code",
   "execution_count": null,
   "id": "b4caf9f9",
   "metadata": {},
   "outputs": [],
   "source": [
    "from tensorflow.keras.utils import to_categorical\n",
    "\n",
    "X = pd.concat([cat_df, num_df], axis = 1)\n",
    "y = to_categorical(df['is_canceled'])"
   ]
  },
  {
   "cell_type": "code",
   "execution_count": null,
   "id": "b17b98d8",
   "metadata": {},
   "outputs": [],
   "source": [
    "X_train, X_test, y_train, y_test = train_test_split(X, y, test_size = 0.30)"
   ]
  },
  {
   "cell_type": "code",
   "execution_count": null,
   "id": "e6b9192b",
   "metadata": {},
   "outputs": [],
   "source": [
    "import keras\n",
    "from keras.layers import Dense\n",
    "from keras.models import Sequential\n",
    "\n",
    "model  = Sequential()\n",
    "model.add(Dense(100, activation = 'relu', input_shape = (26, )))\n",
    "model.add(Dense(100, activation = 'relu'))\n",
    "model.add(Dense(2, activation = 'sigmoid'))\n",
    "model.compile(optimizer = 'adam', loss = 'binary_crossentropy', metrics = ['accuracy'])\n",
    "model_history = model.fit(X_train, y_train, validation_data = (X_test, y_test),\n",
    "                          epochs = 100)"
   ]
  },
  {
   "cell_type": "code",
   "execution_count": null,
   "id": "d7516803",
   "metadata": {},
   "outputs": [],
   "source": [
    "plt.figure(figsize = (12, 6))\n",
    "\n",
    "train_loss = model_history.history['loss']\n",
    "val_loss = model_history.history['val_loss'] \n",
    "epoch = range(1, 101)\n",
    "\n",
    "loss = pd.DataFrame({'train_loss' : train_loss, 'val_loss' : val_loss})\n",
    "\n",
    "px.line(data_frame = loss, x = epoch, y = ['val_loss', 'train_loss'], title = 'Training and Validation Loss',\n",
    "        template = 'plotly_dark')"
   ]
  },
  {
   "cell_type": "code",
   "execution_count": null,
   "id": "83872589",
   "metadata": {},
   "outputs": [],
   "source": [
    "plt.figure(figsize = (12, 6))\n",
    "\n",
    "train_acc = model_history.history['accuracy']\n",
    "val_acc = model_history.history['val_accuracy'] \n",
    "epoch = range(1, 101)\n",
    "\n",
    "\n",
    "accuracy = pd.DataFrame({'train_acc' : train_acc, 'val_acc' : val_acc})\n",
    "\n",
    "px.line(data_frame = accuracy, x = epoch, y = ['val_acc', 'train_acc'], title = 'Training and Validation Accuracy',\n",
    "        template = 'plotly_dark')"
   ]
  },
  {
   "cell_type": "code",
   "execution_count": null,
   "id": "91f48d0b",
   "metadata": {},
   "outputs": [],
   "source": [
    "acc_ann = model.evaluate(X_test, y_test)[1]\n",
    "\n",
    "print(f'Accuracy of model is {acc_ann}')"
   ]
  },
  {
   "cell_type": "markdown",
   "id": "918455c0",
   "metadata": {},
   "source": [
    "# Models Comparison"
   ]
  },
  {
   "cell_type": "code",
   "execution_count": null,
   "id": "60e289b3",
   "metadata": {},
   "outputs": [],
   "source": [
    "models = pd.DataFrame({\n",
    "    'Model' : ['Logistic Regression', 'KNN', 'Decision Tree Classifier', 'Random Forest Classifier','Ada Boost Classifier',\n",
    "             'Gradient Boosting Classifier', 'XgBoost', 'Cat Boost', 'Extra Trees Classifier', 'Voting Classifier'\n",
    "               , 'ANN'],\n",
    "    'Score' : [acc_lr, acc_knn, acc_dtc, acc_rd_clf, acc_ada, acc_gb, acc_xgb, acc_cat, acc_etc, acc_vtc, acc_ann]\n",
    "})\n",
    "\n",
    "\n",
    "models.sort_values(by = 'Score', ascending = False)"
   ]
  },
  {
   "cell_type": "code",
   "execution_count": null,
   "id": "84ff1eeb",
   "metadata": {},
   "outputs": [],
   "source": [
    "px.bar(data_frame = models, x = 'Score', y = 'Model', color = 'Score', template = 'plotly_dark', title = 'Models Comparison')"
   ]
  },
  {
   "cell_type": "markdown",
   "id": "2d0d0555",
   "metadata": {},
   "source": [
    "# We got accuracy score of 99.5% which is quite impresive."
   ]
  },
  {
   "cell_type": "code",
   "execution_count": null,
   "id": "6e09d1c7",
   "metadata": {},
   "outputs": [],
   "source": []
  }
 ],
 "metadata": {
  "kernelspec": {
   "display_name": "Python 3 (ipykernel)",
   "language": "python",
   "name": "python3"
  },
  "language_info": {
   "codemirror_mode": {
    "name": "ipython",
    "version": 3
   },
   "file_extension": ".py",
   "mimetype": "text/x-python",
   "name": "python",
   "nbconvert_exporter": "python",
   "pygments_lexer": "ipython3",
   "version": "3.11.4"
  }
 },
 "nbformat": 4,
 "nbformat_minor": 5
}
